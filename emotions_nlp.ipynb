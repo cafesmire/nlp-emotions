{
 "cells": [
  {
   "cell_type": "code",
   "execution_count": 1,
   "metadata": {},
   "outputs": [],
   "source": [
    "#Kaggle import and file download\n",
    "#import kaggle\n",
    "#from kaggle.api.kaggle_api_extended import KaggleApi\n",
    "\n",
    "#api = KaggleApi()\n",
    "#api.authenticate()\n",
    "#api.dataset_download_files('praveengovi/emotions-dataset-for-nlp')"
   ]
  },
  {
   "cell_type": "code",
   "execution_count": 2,
   "metadata": {},
   "outputs": [],
   "source": [
    "#import zipfile\n",
    "#with zipfile.ZipFile('emotions-dataset-for-nlp.zip', 'r') as zip_ref:\n",
    "    #zip_ref.extractall('emotions-dataset')"
   ]
  },
  {
   "cell_type": "code",
   "execution_count": 40,
   "metadata": {},
   "outputs": [],
   "source": [
    "#imports\n",
    "import pandas as pd\n",
    "import seaborn as sns\n",
    "import nltk\n",
    "from nltk.corpus import stopwords\n",
    "from nltk.tokenize import word_tokenize\n",
    "from sklearn.feature_extraction.text import TfidfVectorizer\n",
    "from sklearn.ensemble import RandomForestClassifier\n",
    "from sklearn.pipeline import Pipeline\n",
    "from sklearn.model_selection import GridSearchCV\n",
    "from sklearn.metrics import classification_report"
   ]
  },
  {
   "cell_type": "code",
   "execution_count": 2,
   "metadata": {},
   "outputs": [
    {
     "name": "stderr",
     "output_type": "stream",
     "text": [
      "[nltk_data] Downloading package punkt to\n",
      "[nltk_data]     C:\\Users\\cafes\\AppData\\Roaming\\nltk_data...\n",
      "[nltk_data]   Package punkt is already up-to-date!\n",
      "[nltk_data] Downloading package stopwords to\n",
      "[nltk_data]     C:\\Users\\cafes\\AppData\\Roaming\\nltk_data...\n",
      "[nltk_data]   Package stopwords is already up-to-date!\n"
     ]
    }
   ],
   "source": [
    "#Remove stopwords and nonalphabetic characters\n",
    "nltk.download('punkt')\n",
    "nltk.download('stopwords')\n",
    "stop_words = set(stopwords.words('english'))\n",
    "\n",
    "def preprocess_text(sentence):\n",
    "    words = word_tokenize(sentence.lower())\n",
    "    filtered_words = [word for word in words if word.isalpha() and not word in stop_words]\n",
    "    return ' '.join(filtered_words)"
   ]
  },
  {
   "cell_type": "code",
   "execution_count": 3,
   "metadata": {},
   "outputs": [],
   "source": [
    "#Helper function to load files\n",
    "def load_files(filepath):\n",
    "    text = []\n",
    "    label = []\n",
    "    \n",
    "    with open(filepath, 'r') as file:\n",
    "        for line in file:\n",
    "            part = line.strip().split(';')\n",
    "            if len(part) == 2:\n",
    "                filtered_text = preprocess_text(part[0])\n",
    "                text.append(filtered_text)\n",
    "                label.append(part[1])\n",
    "    return text, label\n",
    "\n",
    "train_text, train_label = load_files('emotions-dataset/train.txt')\n",
    "test_text, test_label = load_files('emotions-dataset/test.txt')\n",
    "val_text, val_label = load_files('emotions-dataset/val.txt')"
   ]
  },
  {
   "cell_type": "code",
   "execution_count": 4,
   "metadata": {},
   "outputs": [],
   "source": [
    "train_df = pd.DataFrame({'texts': train_text, 'labels': train_label})\n",
    "test_df = pd.DataFrame({'texts': test_text, 'labels': test_label})\n",
    "val_df = pd.DataFrame({'texts': val_text, 'labels': val_label})\n",
    "\n",
    "df = pd.concat([train_df, test_df, val_df])"
   ]
  },
  {
   "cell_type": "code",
   "execution_count": 5,
   "metadata": {},
   "outputs": [
    {
     "data": {
      "text/html": [
       "<div>\n",
       "<style scoped>\n",
       "    .dataframe tbody tr th:only-of-type {\n",
       "        vertical-align: middle;\n",
       "    }\n",
       "\n",
       "    .dataframe tbody tr th {\n",
       "        vertical-align: top;\n",
       "    }\n",
       "\n",
       "    .dataframe thead th {\n",
       "        text-align: right;\n",
       "    }\n",
       "</style>\n",
       "<table border=\"1\" class=\"dataframe\">\n",
       "  <thead>\n",
       "    <tr style=\"text-align: right;\">\n",
       "      <th></th>\n",
       "      <th>texts</th>\n",
       "      <th>labels</th>\n",
       "    </tr>\n",
       "  </thead>\n",
       "  <tbody>\n",
       "    <tr>\n",
       "      <th>0</th>\n",
       "      <td>didnt feel humiliated</td>\n",
       "      <td>sadness</td>\n",
       "    </tr>\n",
       "    <tr>\n",
       "      <th>1</th>\n",
       "      <td>go feeling hopeless damned hopeful around some...</td>\n",
       "      <td>sadness</td>\n",
       "    </tr>\n",
       "    <tr>\n",
       "      <th>2</th>\n",
       "      <td>im grabbing minute post feel greedy wrong</td>\n",
       "      <td>anger</td>\n",
       "    </tr>\n",
       "    <tr>\n",
       "      <th>3</th>\n",
       "      <td>ever feeling nostalgic fireplace know still pr...</td>\n",
       "      <td>love</td>\n",
       "    </tr>\n",
       "    <tr>\n",
       "      <th>4</th>\n",
       "      <td>feeling grouchy</td>\n",
       "      <td>anger</td>\n",
       "    </tr>\n",
       "  </tbody>\n",
       "</table>\n",
       "</div>"
      ],
      "text/plain": [
       "                                               texts   labels\n",
       "0                              didnt feel humiliated  sadness\n",
       "1  go feeling hopeless damned hopeful around some...  sadness\n",
       "2          im grabbing minute post feel greedy wrong    anger\n",
       "3  ever feeling nostalgic fireplace know still pr...     love\n",
       "4                                    feeling grouchy    anger"
      ]
     },
     "execution_count": 5,
     "metadata": {},
     "output_type": "execute_result"
    }
   ],
   "source": [
    "df.head()"
   ]
  },
  {
   "cell_type": "code",
   "execution_count": 6,
   "metadata": {},
   "outputs": [
    {
     "data": {
      "text/plain": [
       "joy         6761\n",
       "sadness     5797\n",
       "anger       2709\n",
       "fear        2373\n",
       "love        1641\n",
       "surprise     719\n",
       "Name: labels, dtype: int64"
      ]
     },
     "execution_count": 6,
     "metadata": {},
     "output_type": "execute_result"
    }
   ],
   "source": [
    "df.labels.value_counts()"
   ]
  },
  {
   "cell_type": "code",
   "execution_count": 7,
   "metadata": {},
   "outputs": [
    {
     "data": {
      "text/plain": [
       "<seaborn.axisgrid.FacetGrid at 0x2998daa7b50>"
      ]
     },
     "execution_count": 7,
     "metadata": {},
     "output_type": "execute_result"
    },
    {
     "data": {
      "image/png": "[encoded data removed]",
      "text/plain": [
       "<Figure size 500x500 with 1 Axes>"
      ]
     },
     "metadata": {},
     "output_type": "display_data"
    }
   ],
   "source": [
    "sns.catplot(df, x='labels', kind='count')"
   ]
  },
  {
   "cell_type": "markdown",
   "metadata": {},
   "source": [
    "Transform to Numeric"
   ]
  },
  {
   "cell_type": "code",
   "execution_count": 21,
   "metadata": {},
   "outputs": [
    {
     "data": {
      "text/html": [
       "<div>\n",
       "<style scoped>\n",
       "    .dataframe tbody tr th:only-of-type {\n",
       "        vertical-align: middle;\n",
       "    }\n",
       "\n",
       "    .dataframe tbody tr th {\n",
       "        vertical-align: top;\n",
       "    }\n",
       "\n",
       "    .dataframe thead th {\n",
       "        text-align: right;\n",
       "    }\n",
       "</style>\n",
       "<table border=\"1\" class=\"dataframe\">\n",
       "  <thead>\n",
       "    <tr style=\"text-align: right;\">\n",
       "      <th></th>\n",
       "      <th>texts</th>\n",
       "      <th>labels</th>\n",
       "    </tr>\n",
       "  </thead>\n",
       "  <tbody>\n",
       "    <tr>\n",
       "      <th>count</th>\n",
       "      <td>16000</td>\n",
       "      <td>16000</td>\n",
       "    </tr>\n",
       "    <tr>\n",
       "      <th>unique</th>\n",
       "      <td>15879</td>\n",
       "      <td>6</td>\n",
       "    </tr>\n",
       "    <tr>\n",
       "      <th>top</th>\n",
       "      <td>feel wronged</td>\n",
       "      <td>joy</td>\n",
       "    </tr>\n",
       "    <tr>\n",
       "      <th>freq</th>\n",
       "      <td>5</td>\n",
       "      <td>5362</td>\n",
       "    </tr>\n",
       "  </tbody>\n",
       "</table>\n",
       "</div>"
      ],
      "text/plain": [
       "               texts labels\n",
       "count          16000  16000\n",
       "unique         15879      6\n",
       "top     feel wronged    joy\n",
       "freq               5   5362"
      ]
     },
     "execution_count": 21,
     "metadata": {},
     "output_type": "execute_result"
    }
   ],
   "source": [
    "train_df.describe()"
   ]
  },
  {
   "cell_type": "code",
   "execution_count": 38,
   "metadata": {},
   "outputs": [
    {
     "name": "stdout",
     "output_type": "stream",
     "text": [
      "(16000, 15044)\n",
      "(16000,)\n"
     ]
    }
   ],
   "source": [
    "vect = TfidfVectorizer()\n",
    "X = vect.fit_transform(train_df.texts)\n",
    "y = train_df.labels\n",
    "emotions_transformed = pd.DataFrame(X.toarray(), columns=vect.get_feature_names_out())\n",
    "print(emotions_transformed.shape)\n",
    "print(y.shape)"
   ]
  },
  {
   "cell_type": "markdown",
   "metadata": {},
   "source": [
    "Train Model"
   ]
  },
  {
   "cell_type": "code",
   "execution_count": 43,
   "metadata": {},
   "outputs": [
    {
     "name": "stdout",
     "output_type": "stream",
     "text": [
      "Fitting 3 folds for each of 4 candidates, totalling 12 fits\n",
      "[CV] END classifier__n_estimators=100, vectorizer__max_features=1000; total time=   6.6s\n",
      "[CV] END classifier__n_estimators=100, vectorizer__max_features=1000; total time=   6.5s\n",
      "[CV] END classifier__n_estimators=100, vectorizer__max_features=1000; total time=   6.8s\n",
      "[CV] END classifier__n_estimators=100, vectorizer__max_features=5000; total time=   9.0s\n",
      "[CV] END classifier__n_estimators=100, vectorizer__max_features=5000; total time=   8.8s\n",
      "[CV] END classifier__n_estimators=100, vectorizer__max_features=5000; total time=   9.2s\n",
      "[CV] END classifier__n_estimators=200, vectorizer__max_features=1000; total time=  13.3s\n",
      "[CV] END classifier__n_estimators=200, vectorizer__max_features=1000; total time=  13.1s\n",
      "[CV] END classifier__n_estimators=200, vectorizer__max_features=1000; total time=  13.5s\n",
      "[CV] END classifier__n_estimators=200, vectorizer__max_features=5000; total time=  18.3s\n",
      "[CV] END classifier__n_estimators=200, vectorizer__max_features=5000; total time=  17.6s\n",
      "[CV] END classifier__n_estimators=200, vectorizer__max_features=5000; total time=  18.3s\n",
      "Validation Results:\n",
      "              precision    recall  f1-score   support\n",
      "\n",
      "       anger       0.90      0.88      0.89       275\n",
      "        fear       0.81      0.88      0.84       212\n",
      "         joy       0.91      0.92      0.92       704\n",
      "        love       0.85      0.83      0.84       178\n",
      "     sadness       0.92      0.91      0.92       550\n",
      "    surprise       0.90      0.74      0.81        81\n",
      "\n",
      "    accuracy                           0.89      2000\n",
      "   macro avg       0.88      0.86      0.87      2000\n",
      "weighted avg       0.89      0.89      0.89      2000\n",
      "\n",
      "Test Results:\n",
      "              precision    recall  f1-score   support\n",
      "\n",
      "       anger       0.90      0.90      0.90       275\n",
      "        fear       0.87      0.90      0.88       224\n",
      "         joy       0.89      0.92      0.90       695\n",
      "        love       0.77      0.71      0.74       159\n",
      "     sadness       0.93      0.92      0.92       581\n",
      "    surprise       0.70      0.61      0.65        66\n",
      "\n",
      "    accuracy                           0.89      2000\n",
      "   macro avg       0.84      0.82      0.83      2000\n",
      "weighted avg       0.88      0.89      0.88      2000\n",
      "\n"
     ]
    }
   ],
   "source": [
    "pipeline = Pipeline([\n",
    "    ('vectorizer', TfidfVectorizer()),\n",
    "    ('classifier', RandomForestClassifier())\n",
    "])\n",
    "\n",
    "# Use GridSearchCV for hyperparameter tuning\n",
    "param_grid = {\n",
    "    'vectorizer__max_features': [1000, 5000],\n",
    "    'classifier__n_estimators': [100, 200],\n",
    "}\n",
    "\n",
    "grid_search = GridSearchCV(pipeline, param_grid, cv=3, scoring='accuracy', verbose=2)\n",
    "grid_search.fit(train_df['texts'], train_df['labels'])\n",
    "\n",
    "# Validate the model\n",
    "val_predictions = grid_search.predict(val_df['texts'])\n",
    "print(\"Validation Results:\")\n",
    "print(classification_report(val_df['labels'], val_predictions))\n",
    "\n",
    "# Test the final model\n",
    "test_predictions = grid_search.predict(test_df['texts'])\n",
    "print(\"Test Results:\")\n",
    "print(classification_report(test_df['labels'], test_predictions))"
   ]
  }
 ],
 "metadata": {
  "kernelspec": {
   "display_name": "venv-a",
   "language": "python",
   "name": "python3"
  },
  "language_info": {
   "codemirror_mode": {
    "name": "ipython",
    "version": 3
   },
   "file_extension": ".py",
   "mimetype": "text/x-python",
   "name": "python",
   "nbconvert_exporter": "python",
   "pygments_lexer": "ipython3",
   "version": "3.11.3"
  }
 },
 "nbformat": 4,
 "nbformat_minor": 2
}
